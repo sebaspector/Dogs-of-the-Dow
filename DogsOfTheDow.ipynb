{
  "nbformat": 4,
  "nbformat_minor": 0,
  "metadata": {
    "colab": {
      "provenance": [],
      "authorship_tag": "ABX9TyOKDn13FRjLZAF47PM2b8O6",
      "include_colab_link": true
    },
    "kernelspec": {
      "name": "python3",
      "display_name": "Python 3"
    },
    "language_info": {
      "name": "python"
    }
  },
  "cells": [
    {
      "cell_type": "markdown",
      "metadata": {
        "id": "view-in-github",
        "colab_type": "text"
      },
      "source": [
        "<a href=\"https://colab.research.google.com/github/sebaspector/Dogs-of-the-Dow/blob/main/DogsOfTheDow.ipynb\" target=\"_parent\"><img src=\"https://colab.research.google.com/assets/colab-badge.svg\" alt=\"Open In Colab\"/></a>"
      ]
    },
    {
      "cell_type": "code",
      "execution_count": null,
      "metadata": {
        "id": "71afkyUtYJ3s"
      },
      "outputs": [],
      "source": [
        "#pip3 install --upgrade yfinance (or in Colab !pip install yfinance)\n",
        "import pandas as pd\n",
        "import yfinance as yf\n",
        "import datetime\n",
        "\n",
        "#DJI 30 companies\n",
        "from google.colab import drive\n",
        "drive.mount('/content/gdrive')\n",
        "DJI = pd.read_csv('/content/gdrive/MyDrive/DOW 30 list.csv',sep=\";\")\n",
        "tickers = DJI['Symbol'].to_list()\n",
        "start = datetime.datetime(2020, 12, 31)\n",
        "end = datetime.datetime(2021, 11, 17)\n",
        "\n",
        "#Data from Yahoo\n",
        "data = yf.download(tickers, start = start, end = end)\n",
        "data.head()\n",
        "data['Adj Close'].head()\n",
        "prices = data['Adj Close'].copy()\n",
        "pricesT = prices.T.copy()\n",
        "pricesT.columns = pricesT.columns.astype('str').str[:10]\n",
        "pricesT['last_price'] = pricesT['2021-11-16']\n",
        "\n",
        "\n",
        "#Create data frame por stocks and sum of year 2021 dividends\n",
        "data = pd.DataFrame()\n",
        "for i in tickers:\n",
        "    series = yf.Ticker(i).dividends.loc[start:end]\n",
        "    data = pd.concat([data, series], axis=1)\n",
        "\n",
        "data = data.fillna(0)\n",
        "data.columns = tickers\n",
        "sum_dividends = data.sum(axis=0)\n",
        "sum_dividends.sort_index(inplace=True)\n",
        "\n",
        "stock_price = pricesT['last_price']\n",
        "div_yield = (sum_dividends / stock_price) * 100\n",
        "\n",
        "\n",
        "#Dogs of the Dow\n",
        "dogs_of_the_dow = div_yield.sort_values(ascending=False)[:10]\n",
        "print(dogs_of_the_dow)\n",
        "\n",
        "#Small Dogs of the Dow\n",
        "stock_price.loc[dogs_of_the_dow.index] #Price of the Dogs of the Dow\n",
        "small_dogs_of_the_dow = stock_price.loc[dogs_of_the_dow.index].sort_values(ascending=True)[:5]\n",
        "print(small_dogs_of_the_dow)\n",
        "\n",
        "#Performance stocks\n",
        "pricesT['Performance'] = (pricesT['2021-11-16'] - pricesT['2021-01-04'])*100.0 / pricesT['2021-01-04']\n",
        "\n",
        "#Performance Dogs of the Dow\n",
        "table1 = pd.concat([dogs_of_the_dow,pricesT['Performance'] ], axis=1).reindex(dogs_of_the_dow.index)\n",
        "df_stocks_dogs_performance = table1.drop(columns = 0)\n",
        "weights = [0.1,0.1,0.1,0.1,0.1,0.1,0.1,0.1,0.1,0.1]\n",
        "performance_dogs_of_the_dow = (df_stocks_dogs_performance['Performance'] * weights).sum(axis=0)\n",
        "print(\"Performance for Dogs of the Dow: \", performance_dogs_of_the_dow)\n",
        "\n",
        "#Performance Small Dogs of the Dow\n",
        "table2 = pd.concat([small_dogs_of_the_dow,pricesT['Performance'] ], axis=1).reindex(small_dogs_of_the_dow.index)\n",
        "df_stocks_small_dogs_performance = table2.drop(columns = 'last_price')\n",
        "weights = [0.2,0.2,0.2,0.2,0.2]\n",
        "performance_small_dogs_of_the_dow = (df_stocks_small_dogs_performance['Performance'] * weights).sum(axis=0)\n",
        "print(\"Performance for Small Dogs: \", performance_small_dogs_of_the_dow)"
      ]
    }
  ]
}